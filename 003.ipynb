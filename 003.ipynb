{
 "cells": [
  {
   "cell_type": "code",
   "execution_count": 8,
   "metadata": {},
   "outputs": [
    {
     "name": "stdout",
     "output_type": "stream",
     "text": [
      "Hi there!\n",
      "Welcome aboard\n"
     ]
    }
   ],
   "source": [
    "# Functions\n",
    "\n",
    "def greet_user():\n",
    "    print (\"Hi there!\")\n",
    "    print (\"Welcome aboard\")\n",
    "    \n",
    "    \n",
    "greet_user()"
   ]
  },
  {
   "cell_type": "code",
   "execution_count": 13,
   "metadata": {},
   "outputs": [
    {
     "name": "stdin",
     "output_type": "stream",
     "text": [
      "What's your name?  Yuby CK\n"
     ]
    },
    {
     "name": "stdout",
     "output_type": "stream",
     "text": [
      "Hi Yuby CK\n",
      "Welcome aboard\n",
      "\n",
      "['Yuby', 'CK']\n"
     ]
    }
   ],
   "source": [
    "# Functions\n",
    "\n",
    "x = input (\"What's your name? \")\n",
    "\n",
    "full_name = x.split(' ')\n",
    "\n",
    "def greet_user():\n",
    "    print (f\"Hi {full_name[0]} {full_name[1]}\")\n",
    "    print (\"Welcome aboard\")\n",
    "    \n",
    "    \n",
    "greet_user()\n",
    "print (\"\")\n",
    "print (full_name)"
   ]
  },
  {
   "cell_type": "code",
   "execution_count": 14,
   "metadata": {},
   "outputs": [
    {
     "name": "stdin",
     "output_type": "stream",
     "text": [
      "What's your name?  Karol Marks\n",
      "What's your last name?  Roder\n"
     ]
    },
    {
     "name": "stdout",
     "output_type": "stream",
     "text": [
      "Hi Karol Marks Roder\n",
      "Welcome aboard\n"
     ]
    }
   ],
   "source": [
    "x = input (\"What's your name? \")\n",
    "y = input (\"What's your last name? \")\n",
    "\n",
    "def greet_user():\n",
    "    print (f\"Hi {x} {y}\")\n",
    "    print (\"Welcome aboard\")\n",
    "    \n",
    "    \n",
    "greet_user()"
   ]
  },
  {
   "cell_type": "code",
   "execution_count": 1,
   "metadata": {},
   "outputs": [
    {
     "name": "stdin",
     "output_type": "stream",
     "text": [
      "What's your name?  Nick\n",
      "What's your last name?  Morshall\n"
     ]
    },
    {
     "name": "stdout",
     "output_type": "stream",
     "text": [
      "Hi Nick Morshall\n",
      "Welcome aboard\n"
     ]
    }
   ],
   "source": [
    "# Keyword Arguments\n",
    "\n",
    "first_name = input (\"What's your name? \")\n",
    "last_name = input (\"What's your last name? \")\n",
    "\n",
    "def greet_user(first_name, last_name):\n",
    "    print (f\"Hi {first_name} {last_name}\")\n",
    "    print (\"Welcome aboard\")\n",
    "    \n",
    "    \n",
    "greet_user(first_name, last_name)"
   ]
  },
  {
   "cell_type": "code",
   "execution_count": 7,
   "metadata": {},
   "outputs": [
    {
     "name": "stdin",
     "output_type": "stream",
     "text": [
      "Liczba?  45\n"
     ]
    },
    {
     "name": "stdout",
     "output_type": "stream",
     "text": [
      "2025\n"
     ]
    }
   ],
   "source": [
    "# Return Statement\n",
    "\n",
    "x = int (input (\"Liczba? \"))\n",
    "\n",
    "def square (x):\n",
    "    return x*x\n",
    "\n",
    "\n",
    "print (square(x))"
   ]
  },
  {
   "cell_type": "code",
   "execution_count": 19,
   "metadata": {},
   "outputs": [
    {
     "name": "stdin",
     "output_type": "stream",
     "text": [
      "Age:  62\n"
     ]
    },
    {
     "name": "stdout",
     "output_type": "stream",
     "text": [
      "You are 62 years old.\n"
     ]
    }
   ],
   "source": [
    "# Exceptions\n",
    "\n",
    "try:\n",
    "    age = int(input(\"Age: \"))\n",
    "    income = 20000\n",
    "    risk = income / age\n",
    "    print (f\"You are {age} years old.\")\n",
    "except ZeroDivisionError:\n",
    "    print (\"Age can not be 0\")\n",
    "except ValueError:\n",
    "    print (\"Invalid value...\")"
   ]
  },
  {
   "cell_type": "code",
   "execution_count": null,
   "metadata": {},
   "outputs": [],
   "source": []
  }
 ],
 "metadata": {
  "kernelspec": {
   "display_name": "Python 3",
   "language": "python",
   "name": "python3"
  },
  "language_info": {
   "codemirror_mode": {
    "name": "ipython",
    "version": 3
   },
   "file_extension": ".py",
   "mimetype": "text/x-python",
   "name": "python",
   "nbconvert_exporter": "python",
   "pygments_lexer": "ipython3",
   "version": "3.8.0"
  }
 },
 "nbformat": 4,
 "nbformat_minor": 4
}
