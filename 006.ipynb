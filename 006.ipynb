{
 "cells": [
  {
   "cell_type": "code",
   "execution_count": 22,
   "metadata": {},
   "outputs": [
    {
     "name": "stdin",
     "output_type": "stream",
     "text": [
      "Podaj jakiś nr:  9\n"
     ]
    },
    {
     "name": "stdout",
     "output_type": "stream",
     "text": [
      "walk\n",
      "18\n",
      "bark\n",
      "walk\n"
     ]
    }
   ],
   "source": [
    "# Inheritance\n",
    "\n",
    "class Mammal:\n",
    "    def walk(self):\n",
    "        print (\"walk\")\n",
    "\n",
    "\n",
    "class Dog(Mammal):\n",
    "    def bark(self, x):\n",
    "        y = x * 2\n",
    "        print (y)\n",
    "        print (\"bark\")\n",
    "        \n",
    "        \n",
    "class Cat(Mammal):\n",
    "    pass\n",
    "\n",
    "cos = int (input (\"Podaj jakiś nr: \"))\n",
    "\n",
    "dog1 = Dog()\n",
    "dog1.walk()\n",
    "dog1.bark(cos)\n",
    "cat1 = Cat()\n",
    "cat1.walk()"
   ]
  },
  {
   "cell_type": "code",
   "execution_count": null,
   "metadata": {},
   "outputs": [],
   "source": [
    "# Modules -> converter\n",
    "\n",
    "import converter\n",
    "\n",
    "print (converter.kg_to_lbs(70))\n",
    "\n",
    "# Tutaj powinien działać bloczek \"converter\""
   ]
  },
  {
   "cell_type": "code",
   "execution_count": 23,
   "metadata": {},
   "outputs": [],
   "source": [
    "# Ten bloczek powinien nazyawać się \"converter\", aby móc go importować jako moduł w bloczku wyżej\n",
    "\n",
    "def lbs_to_kg (weight):\n",
    "    return weight * 0.45\n",
    "\n",
    "\n",
    "def kg_to_lbs (weight):\n",
    "    return weight / 0.45"
   ]
  },
  {
   "cell_type": "code",
   "execution_count": 35,
   "metadata": {},
   "outputs": [
    {
     "ename": "ModuleNotFoundError",
     "evalue": "No module named 'findmax'",
     "output_type": "error",
     "traceback": [
      "\u001b[0;31m---------------------------------------------------------------------------\u001b[0m",
      "\u001b[0;31mModuleNotFoundError\u001b[0m                       Traceback (most recent call last)",
      "\u001b[0;32m<ipython-input-35-b97b0bc8c262>\u001b[0m in \u001b[0;36m<module>\u001b[0;34m\u001b[0m\n\u001b[1;32m      1\u001b[0m \u001b[0;31m# exercise 1.1\u001b[0m\u001b[0;34m\u001b[0m\u001b[0;34m\u001b[0m\u001b[0;34m\u001b[0m\u001b[0m\n\u001b[1;32m      2\u001b[0m \u001b[0;34m\u001b[0m\u001b[0m\n\u001b[0;32m----> 3\u001b[0;31m \u001b[0;32mfrom\u001b[0m \u001b[0mfindmax\u001b[0m \u001b[0;32mimport\u001b[0m \u001b[0mfind_max\u001b[0m\u001b[0;34m\u001b[0m\u001b[0;34m\u001b[0m\u001b[0m\n\u001b[0m\u001b[1;32m      4\u001b[0m \u001b[0;34m\u001b[0m\u001b[0m\n\u001b[1;32m      5\u001b[0m \u001b[0mnumbers\u001b[0m \u001b[0;34m[\u001b[0m\u001b[0;36m3\u001b[0m\u001b[0;34m,\u001b[0m \u001b[0;36m1\u001b[0m\u001b[0;34m,\u001b[0m \u001b[0;36m4\u001b[0m\u001b[0;34m,\u001b[0m \u001b[0;36m7\u001b[0m\u001b[0;34m,\u001b[0m \u001b[0;36m10\u001b[0m\u001b[0;34m]\u001b[0m\u001b[0;34m\u001b[0m\u001b[0;34m\u001b[0m\u001b[0m\n",
      "\u001b[0;31mModuleNotFoundError\u001b[0m: No module named 'findmax'"
     ]
    }
   ],
   "source": [
    "# exercise 1.1\n",
    "\n",
    "from findmax import find_max\n",
    "\n",
    "numbers [3, 1, 4, 7, 10]\n",
    "\n",
    "maximum = find_max(numbers)\n",
    "\n",
    "print (maximum)"
   ]
  },
  {
   "cell_type": "code",
   "execution_count": 32,
   "metadata": {},
   "outputs": [
    {
     "name": "stdout",
     "output_type": "stream",
     "text": [
      "4\n"
     ]
    }
   ],
   "source": [
    "# exercse 1.2\n",
    "\n",
    "# findmax.py\n",
    "\n",
    "def find_max(numbers):\n",
    "    max = numbers[0]\n",
    "    for number in numbers:\n",
    "        if number > max:\n",
    "            max = number\n",
    "    return max"
   ]
  },
  {
   "cell_type": "code",
   "execution_count": 33,
   "metadata": {},
   "outputs": [
    {
     "name": "stdout",
     "output_type": "stream",
     "text": [
      "4\n"
     ]
    }
   ],
   "source": [
    "def find_max(numbers):\n",
    "    max = numbers[0]\n",
    "    for number in numbers:\n",
    "        if number > max:\n",
    "            max = number\n",
    "    return max\n",
    "\n",
    "numbers = [3, 2, 4]\n",
    "maximum = find_max(numbers)\n",
    "\n",
    "print (maximum)"
   ]
  },
  {
   "cell_type": "code",
   "execution_count": 37,
   "metadata": {},
   "outputs": [
    {
     "name": "stdout",
     "output_type": "stream",
     "text": [
      "['Mariusz', 'Karol', 'Wojtek']\n",
      "\n"
     ]
    },
    {
     "name": "stdin",
     "output_type": "stream",
     "text": [
      "Wprowadz nową osobę do tablicy:  Kasia\n"
     ]
    },
    {
     "name": "stdout",
     "output_type": "stream",
     "text": [
      "['Mariusz', 'Karol', 'Wojtek', 'Kasia']\n"
     ]
    }
   ],
   "source": [
    "tbl = ['Mariusz', 'Karol', 'Wojtek']\n",
    "\n",
    "print (tbl)\n",
    "print ('')\n",
    "\n",
    "a = str (input ('Wprowadz nową osobę do tablicy: '))\n",
    "\n",
    "tbl.append(a)\n",
    "\n",
    "print (tbl)"
   ]
  },
  {
   "cell_type": "code",
   "execution_count": null,
   "metadata": {},
   "outputs": [],
   "source": []
  }
 ],
 "metadata": {
  "kernelspec": {
   "display_name": "Python 3",
   "language": "python",
   "name": "python3"
  },
  "language_info": {
   "codemirror_mode": {
    "name": "ipython",
    "version": 3
   },
   "file_extension": ".py",
   "mimetype": "text/x-python",
   "name": "python",
   "nbconvert_exporter": "python",
   "pygments_lexer": "ipython3",
   "version": "3.8.0"
  }
 },
 "nbformat": 4,
 "nbformat_minor": 4
}
