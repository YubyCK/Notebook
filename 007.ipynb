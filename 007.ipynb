{
 "cells": [
  {
   "cell_type": "code",
   "execution_count": 3,
   "metadata": {},
   "outputs": [
    {
     "name": "stdin",
     "output_type": "stream",
     "text": [
      "Podaj min wiek:  28\n"
     ]
    },
    {
     "name": "stdout",
     "output_type": "stream",
     "text": [
      "1. Jan 23\n",
      "2. Dawid 20\n",
      "3. Marcin 22\n",
      "Osób poniżej wyznaczonego wieku jest 3, a jest nim ['Jan', 'Dawid', 'Marcin']\n"
     ]
    }
   ],
   "source": [
    "def check_age(users, wiek):\n",
    "    count = 0\n",
    "    for i, user in enumerate(users):\n",
    "        try:            \n",
    "            user_age = int(user['age'])\n",
    "        except KeyError:\n",
    "            print('Niepoprawne dane: {}'.format(user))\n",
    "        except ValueError:\n",
    "            print('Niepoprawny wiek: {} {}'.format(user['name'], user['age']))\n",
    "        else:\n",
    "            if user_age < wiek:\n",
    "                count += 1\n",
    "                a = user['name']\n",
    "                invalid_user.append(a)\n",
    "            else:\n",
    "                0\n",
    "        finally:\n",
    "            print(\"{}. {} {}\".format(i+1, user['name'], user['age']))\n",
    "    return count  \n",
    "\n",
    "\n",
    "invalid_user = []\n",
    "\n",
    "wiek = int (input (\"Podaj min wiek: \"))\n",
    "\n",
    "users = [{'name': 'Jan', 'age': '23'}, {'name': 'Dawid', 'age': '20'}, {'name': 'Marcin', 'age': '22'}]\n",
    "\n",
    "wynik = check_age(users, wiek)\n",
    "\n",
    "if wynik > 0:\n",
    "    print (f\"Osób poniżej wyznaczonego wieku jest {wynik}, a jest nim {invalid_user}\")\n",
    "else:\n",
    "    print (f\"Osób poniżej wyznaczonego wieku jest {wynik}\")"
   ]
  },
  {
   "cell_type": "code",
   "execution_count": 11,
   "metadata": {},
   "outputs": [
    {
     "name": "stdin",
     "output_type": "stream",
     "text": [
      "Ile osób mam sprawdzić?  3\n",
      "Podaj swoje imię:  karol\n",
      "Podaj swój wiek:  12\n",
      "Podaj swoje imię:  michal\n",
      "Podaj swój wiek:  14\n",
      "Podaj swoje imię:  marek\n",
      "Podaj swój wiek:  17\n"
     ]
    },
    {
     "name": "stdout",
     "output_type": "stream",
     "text": [
      "['karol', '12', 'michal', '14', 'marek', '17']\n"
     ]
    }
   ],
   "source": [
    "ilosc = int (input (\"Ile osób mam sprawdzić? \"))\n",
    "\n",
    "ilosc_count = 0\n",
    "users = []\n",
    "\n",
    "while ilosc_count < ilosc:\n",
    "    user_name = input ('Podaj swoje imię: ')\n",
    "    user_age = input ('Podaj swój wiek: ')\n",
    "    ilosc_count += 1\n",
    "    name = user_name\n",
    "    age = user_age\n",
    "    users.append(name)\n",
    "    users.append(age)\n",
    "    \n",
    "print (users)"
   ]
  },
  {
   "cell_type": "code",
   "execution_count": 2,
   "metadata": {},
   "outputs": [
    {
     "name": "stdin",
     "output_type": "stream",
     "text": [
      "cos 3\n",
      "cos2 karol\n",
      "cos2 kamil\n",
      "cos2 22\n"
     ]
    },
    {
     "name": "stdout",
     "output_type": "stream",
     "text": [
      "['karol', 'kamil', '22']\n"
     ]
    }
   ],
   "source": [
    "x = int (input (\"cos\"))\n",
    "\n",
    "y = 0\n",
    "\n",
    "lista = []\n",
    "\n",
    "while y < x:\n",
    "    y += 1\n",
    "    a = input (\"cos2\")\n",
    "    lista.append(a)\n",
    "\n",
    "print (lista)"
   ]
  },
  {
   "cell_type": "code",
   "execution_count": null,
   "metadata": {},
   "outputs": [],
   "source": []
  }
 ],
 "metadata": {
  "kernelspec": {
   "display_name": "Python 3",
   "language": "python",
   "name": "python3"
  },
  "language_info": {
   "codemirror_mode": {
    "name": "ipython",
    "version": 3
   },
   "file_extension": ".py",
   "mimetype": "text/x-python",
   "name": "python",
   "nbconvert_exporter": "python",
   "pygments_lexer": "ipython3",
   "version": "3.8.0"
  }
 },
 "nbformat": 4,
 "nbformat_minor": 4
}
