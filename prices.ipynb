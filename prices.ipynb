{
 "cells": [
  {
   "cell_type": "code",
   "execution_count": 4,
   "metadata": {},
   "outputs": [
    {
     "name": "stdout",
     "output_type": "stream",
     "text": [
      "10\n",
      "Full: 10\n",
      "20\n",
      "Full: 30\n",
      "30\n",
      "Full: 60\n",
      "40\n",
      "Full: 100\n",
      "50\n",
      "Full: 150\n"
     ]
    }
   ],
   "source": [
    "\n",
    "prices = [10, 20, 30, 40, 50]\n",
    "\n",
    "full = 0\n",
    "\n",
    "for price in prices:\n",
    "    full += price\n",
    "    print(price)\n",
    "    print (f\"Full: {full}\")\n",
    "\n"
   ]
  },
  {
   "cell_type": "code",
   "execution_count": null,
   "metadata": {},
   "outputs": [],
   "source": []
  }
 ],
 "metadata": {
  "kernelspec": {
   "display_name": "Python 3",
   "language": "python",
   "name": "python3"
  },
  "language_info": {
   "codemirror_mode": {
    "name": "ipython",
    "version": 3
   },
   "file_extension": ".py",
   "mimetype": "text/x-python",
   "name": "python",
   "nbconvert_exporter": "python",
   "pygments_lexer": "ipython3",
   "version": "3.8.0"
  }
 },
 "nbformat": 4,
 "nbformat_minor": 4
}
