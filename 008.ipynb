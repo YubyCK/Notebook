{
 "cells": [
  {
   "cell_type": "code",
   "execution_count": 15,
   "metadata": {},
   "outputs": [
    {
     "name": "stdout",
     "output_type": "stream",
     "text": [
      "0.8667644518924038\n",
      "0.24594780708989272\n",
      "0.3455946210765205\n"
     ]
    }
   ],
   "source": [
    "# Generating random values\n",
    "\n",
    "import random\n",
    "\n",
    "for i in range(3):\n",
    "    print (random.random())"
   ]
  },
  {
   "cell_type": "code",
   "execution_count": 21,
   "metadata": {},
   "outputs": [
    {
     "name": "stdout",
     "output_type": "stream",
     "text": [
      "14\n",
      "18\n",
      "16\n"
     ]
    }
   ],
   "source": [
    "for i in range(3):\n",
    "    print (random.randint(12, 20))"
   ]
  },
  {
   "cell_type": "code",
   "execution_count": 31,
   "metadata": {},
   "outputs": [
    {
     "name": "stdout",
     "output_type": "stream",
     "text": [
      "Kamil\n"
     ]
    }
   ],
   "source": [
    "members = [\"Karol\", \"Kamil\", \"Krzysiek\", \"Grzegorz\", \"Sebastian\"]\n",
    "\n",
    "print (random.choice(members))"
   ]
  },
  {
   "cell_type": "code",
   "execution_count": 56,
   "metadata": {},
   "outputs": [
    {
     "name": "stdout",
     "output_type": "stream",
     "text": [
      "(6, 4)\n"
     ]
    }
   ],
   "source": [
    "class Dice:\n",
    "    def roll(self):\n",
    "        first = random.randint(1, 6)\n",
    "        second = random.randint(1, 6)\n",
    "        return first, second\n",
    "    \n",
    "    \n",
    "dice = Dice()\n",
    "print(dice.roll())"
   ]
  },
  {
   "cell_type": "code",
   "execution_count": 63,
   "metadata": {},
   "outputs": [
    {
     "name": "stdout",
     "output_type": "stream",
     "text": [
      "006.ipynb\n",
      "007.ipynb\n",
      "001.ipynb\n",
      "002.ipynb\n",
      "008.ipynb\n",
      "003.ipynb\n",
      "004.ipynb\n",
      "005.ipynb\n"
     ]
    }
   ],
   "source": [
    "from pathlib import Path\n",
    "\n",
    "path = Path()\n",
    "for file in path.glob('*.ipynb'):\n",
    "    print (file)"
   ]
  },
  {
   "cell_type": "code",
   "execution_count": null,
   "metadata": {},
   "outputs": [],
   "source": [
    "# Pypi and Pip\n",
    "\n",
    "# pypi.org || "
   ]
  }
 ],
 "metadata": {
  "kernelspec": {
   "display_name": "Python 3",
   "language": "python",
   "name": "python3"
  },
  "language_info": {
   "codemirror_mode": {
    "name": "ipython",
    "version": 3
   },
   "file_extension": ".py",
   "mimetype": "text/x-python",
   "name": "python",
   "nbconvert_exporter": "python",
   "pygments_lexer": "ipython3",
   "version": "3.8.0"
  }
 },
 "nbformat": 4,
 "nbformat_minor": 4
}
