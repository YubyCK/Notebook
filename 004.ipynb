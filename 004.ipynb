{
 "cells": [
  {
   "cell_type": "code",
   "execution_count": null,
   "metadata": {},
   "outputs": [],
   "source": [
    "secret_number = 9\n",
    "guess_count = 0\n",
    "guess_limit = 3\n",
    "\n",
    "while True and guess_count < guess_limit:\n",
    "  try:\n",
    "    guess = int (input (\"Guess number from 1 to 9: \"))\n",
    "    if guess != secret_number:\n",
    "      print (\"Wrong...\")\n",
    "      guess_count = guess_count + 1\n",
    "    else:\n",
    "      print (\"You won!\")\n",
    "      break\n",
    "  except ValueError:\n",
    "    print (\"It's not number moron...\")\n",
    "    guess_count = guess_count + 1\n",
    "else:\n",
    "  print (\"Sorry man... :(\")\n",
    "print ('')\n",
    "\n",
    "\n",
    "print (\"Zabawa w samochód :)\")\n",
    "print (\"Napisz 'start' to samochód wystartuje\")\n",
    "print (\"Napisz 'stop' to samochód się zatrzyma\")\n",
    "print (\"Napisz 'koniec' skończymy zabawę\")\n",
    "\n",
    "\n",
    "Silnik_włączony = False\n",
    "limit = 0\n",
    "LIMIT = 3\n",
    "\n",
    "while limit < LIMIT:\n",
    "  komenda = input (\"> \").lower()\n",
    "  if komenda == \"start\":\n",
    "    if Silnik_włączony:\n",
    "      print (\"Samochód już wystartował...\")\n",
    "      limit = limit + 1\n",
    "    else:\n",
    "      print (\"Samochód wystartował\")\n",
    "      Silnik_włączony = True\n",
    "      limit = 0\n",
    "  elif komenda == \"stop\":\n",
    "    if Silnik_włączony:\n",
    "      print (\"Samochód został zatrzymany\")\n",
    "      Silnik_włączony = False\n",
    "      limit = 0\n",
    "    else:\n",
    "      print (\"Samochód już jest zatrzymany...\")\n",
    "      limit = limit + 1\n",
    "  elif komenda == \"koniec\":\n",
    "    print (\"Dzięki\")\n",
    "    break\n",
    "  else:\n",
    "    print (\"Nie rozumiem...\")\n",
    "    limit = limit + 1\n",
    "else:\n",
    "  print (\"Ty chuju, nie umiesz sie bawić...\")\n"
   ]
  },
  {
   "cell_type": "code",
   "execution_count": null,
   "metadata": {},
   "outputs": [],
   "source": []
  }
 ],
 "metadata": {
  "kernelspec": {
   "display_name": "Python 3",
   "language": "python",
   "name": "python3"
  },
  "language_info": {
   "codemirror_mode": {
    "name": "ipython",
    "version": 3
   },
   "file_extension": ".py",
   "mimetype": "text/x-python",
   "name": "python",
   "nbconvert_exporter": "python",
   "pygments_lexer": "ipython3",
   "version": "3.8.0"
  }
 },
 "nbformat": 4,
 "nbformat_minor": 4
}
