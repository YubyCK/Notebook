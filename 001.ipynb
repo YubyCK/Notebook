{
 "cells": [
  {
   "cell_type": "code",
   "execution_count": 8,
   "metadata": {},
   "outputs": [
    {
     "name": "stdout",
     "output_type": "stream",
     "text": [
      "6\n",
      "10\n",
      "\n",
      "1\n",
      "2\n",
      "3\n",
      "4\n",
      "5\n",
      "6\n",
      "7\n",
      "8\n",
      "9\n"
     ]
    }
   ],
   "source": [
    "# 2D list\n",
    "\n",
    "matrix = [\n",
    "    [1, 2, 3],\n",
    "    [4, 5, 6],\n",
    "    [7, 8, 9]\n",
    "]\n",
    "\n",
    "print(matrix[1][2])\n",
    "matrix [1][2] = 10\n",
    "print(matrix[1][2])\n",
    "\n",
    "print ('')\n",
    "\n",
    "matrix [1][2] = 6\n",
    "for row in matrix:\n",
    "    for item in row:\n",
    "        print (item)"
   ]
  },
  {
   "cell_type": "code",
   "execution_count": 1,
   "metadata": {},
   "outputs": [
    {
     "name": "stdout",
     "output_type": "stream",
     "text": [
      "[5, 2, 1, 7, 4, 20]\n",
      "[5, 10, 2, 1, 7, 4, 20]\n",
      "[5, 10, 2, 7, 4, 20]\n",
      "[]\n",
      "[5, 2, 1, 7]\n",
      "0\n",
      "True\n",
      "2\n",
      "[1, 2, 4, 5, 5, 7]\n",
      "[7, 5, 5, 4, 2, 1]\n",
      "Lista1: [5, 2, 1, 7, 4, 15] \n",
      "Lista2: [5, 2, 1, 7, 4]\n"
     ]
    }
   ],
   "source": [
    "numbers = [5, 2, 1, 7 ,4]\n",
    "\n",
    "numbers.append(20) # dodawanie wartości na koniec listy\n",
    "print(numbers)\n",
    "\n",
    "numbers.insert(1, 10) # dodawanie wartości na konkretne miejsce na liście\n",
    "print(numbers)\n",
    "\n",
    "numbers.remove(1) # usuwanie konkretnej wartości z listy\n",
    "print(numbers)\n",
    "\n",
    "numbers.clear() # usuwanie wszystkich wartości\n",
    "print(numbers)\n",
    "\n",
    "numbers = [5, 2, 1, 7 ,4]\n",
    "\n",
    "numbers.pop() # usuwanie ostatnije pozycji z listy\n",
    "print(numbers)\n",
    "\n",
    "print(numbers.index(5)) # wyświetla szósty element listy\n",
    "\n",
    "print(7 in numbers) # sprawdza, czy podana wartość istnieje w liście\n",
    "\n",
    "numbers = [5, 2, 1, 5, 7 ,4]\n",
    "\n",
    "print(numbers.count(5))\n",
    "\n",
    "numbers.sort() # ułożenie od najmniejszej wartości\n",
    "print(numbers)\n",
    "\n",
    "numbers.reverse() # ułożenie od największej wartośći\n",
    "print(numbers)\n",
    "\n",
    "numbers = [5, 2, 1, 7 ,4]\n",
    "\n",
    "numbers2 = numbers.copy() # kopiowanie listy\n",
    "numbers.append(15)\n",
    "print(f\"Lista1: {numbers} \\nLista2: {numbers2}\")"
   ]
  },
  {
   "cell_type": "code",
   "execution_count": 3,
   "metadata": {},
   "outputs": [
    {
     "name": "stdout",
     "output_type": "stream",
     "text": [
      "[1, 2, 3, 4, 5]\n",
      "\n",
      "[1, 2, 3, 4, 6]\n"
     ]
    }
   ],
   "source": [
    "# Write a program to remove the diplicates in a list\n",
    "\n",
    "# Mój pomysł\n",
    "\n",
    "oceny = [1, 1, 2, 3, 3, 4, 5, 5]\n",
    "ocena = oceny[1]\n",
    "\n",
    "for x in oceny:\n",
    "    if x == ocena:\n",
    "        oceny.remove(x)\n",
    "    else:\n",
    "        ocena = x\n",
    "print(oceny)\n",
    "\n",
    "print('')\n",
    "\n",
    "# >>> ingerowanie w liste (oceny)...\n",
    "\n",
    "# Proponowan rozwiązanie (zdecydowanie lepsze)\n",
    "\n",
    "numbers = [2, 2, 4, 6, 3, 4, 6, 1]\n",
    "uniques = []\n",
    "\n",
    "for number in numbers:\n",
    "    if number not in uniques:\n",
    "        uniques.append(number)\n",
    "uniques.sort()\n",
    "print(uniques)"
   ]
  },
  {
   "cell_type": "code",
   "execution_count": null,
   "metadata": {},
   "outputs": [],
   "source": []
  }
 ],
 "metadata": {
  "kernelspec": {
   "display_name": "Python 3",
   "language": "python",
   "name": "python3"
  },
  "language_info": {
   "codemirror_mode": {
    "name": "ipython",
    "version": 3
   },
   "file_extension": ".py",
   "mimetype": "text/x-python",
   "name": "python",
   "nbconvert_exporter": "python",
   "pygments_lexer": "ipython3",
   "version": "3.8.0"
  }
 },
 "nbformat": 4,
 "nbformat_minor": 4
}
