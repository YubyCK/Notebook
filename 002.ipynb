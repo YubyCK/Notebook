{
 "cells": [
  {
   "cell_type": "code",
   "execution_count": 2,
   "metadata": {},
   "outputs": [
    {
     "name": "stdout",
     "output_type": "stream",
     "text": [
      "1\n",
      "2\n"
     ]
    }
   ],
   "source": [
    "# Immortal list (tuples)\n",
    "\n",
    "numbers = (1, 2, 3)\n",
    "\n",
    "# Unpacking\n",
    "\n",
    "coordinates = (1, 2, 3)\n",
    "\n",
    "x, y, z = coordinates\n",
    "\n",
    "print (x)\n",
    "\n",
    "coordinates2 = [1, 2, 3]\n",
    "\n",
    "x, y, z = coordinates2\n",
    "\n",
    "print (y)"
   ]
  },
  {
   "cell_type": "code",
   "execution_count": 13,
   "metadata": {},
   "outputs": [
    {
     "name": "stdout",
     "output_type": "stream",
     "text": [
      "Jun 1 1993\n"
     ]
    }
   ],
   "source": [
    "# Dictionaries\n",
    "\n",
    "customer = {\n",
    "    \"name\": \"Jonh Smith\",\n",
    "    \"age\": 30,    \n",
    "    \"is_verified\": True\n",
    "}\n",
    "print(customer.get(\"dupa\", \"Jun 1 1993\"))"
   ]
  },
  {
   "cell_type": "code",
   "execution_count": 1,
   "metadata": {},
   "outputs": [
    {
     "name": "stdin",
     "output_type": "stream",
     "text": [
      "Phone:  1 4 5 2\n"
     ]
    },
    {
     "name": "stdout",
     "output_type": "stream",
     "text": [
      "One ! ! ! ! ! Two \n"
     ]
    }
   ],
   "source": [
    "phone = input (\"Phone: \")\n",
    "\n",
    "digist_mapping = {\n",
    "    \"1\":\"One\",\n",
    "    \"2\": \"Two\",\n",
    "    \"3\": \"Three\"\n",
    "}\n",
    "\n",
    "output = \"\"\n",
    "for ch in phone:\n",
    "    output += digist_mapping.get(ch, \"!\") + \" \"\n",
    "print (output)"
   ]
  },
  {
   "cell_type": "code",
   "execution_count": null,
   "metadata": {},
   "outputs": [],
   "source": []
  }
 ],
 "metadata": {
  "kernelspec": {
   "display_name": "Python 3",
   "language": "python",
   "name": "python3"
  },
  "language_info": {
   "codemirror_mode": {
    "name": "ipython",
    "version": 3
   },
   "file_extension": ".py",
   "mimetype": "text/x-python",
   "name": "python",
   "nbconvert_exporter": "python",
   "pygments_lexer": "ipython3",
   "version": "3.8.0"
  }
 },
 "nbformat": 4,
 "nbformat_minor": 4
}
