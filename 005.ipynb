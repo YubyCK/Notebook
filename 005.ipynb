{
 "cells": [
  {
   "cell_type": "code",
   "execution_count": 21,
   "metadata": {},
   "outputs": [
    {
     "name": "stdin",
     "output_type": "stream",
     "text": [
      "Pierwsza liczba:  4\n",
      "Druga liczba:  11\n"
     ]
    },
    {
     "name": "stdout",
     "output_type": "stream",
     "text": [
      "draw\n",
      "44\n",
      "move\n",
      "-7\n",
      "10\n",
      "20\n"
     ]
    }
   ],
   "source": [
    "# Classes\n",
    "\n",
    "a = int (input (\"Pierwsza liczba: \"))\n",
    "b = int (input (\"Druga liczba: \"))\n",
    "\n",
    "\n",
    "class Point:\n",
    "    def move(self):\n",
    "        print (\"move\")\n",
    "        print (a-b)\n",
    "        \n",
    "        \n",
    "    def draw(self):\n",
    "        print (\"draw\")\n",
    "        print (a*b)\n",
    "        \n",
    "        \n",
    "point1 = Point()\n",
    "point1.x = 10\n",
    "point1.y = 20\n",
    "point1.draw()\n",
    "point1.move()\n",
    "print (point1.x)\n",
    "print (point1.y)"
   ]
  },
  {
   "cell_type": "code",
   "execution_count": 30,
   "metadata": {},
   "outputs": [
    {
     "name": "stdout",
     "output_type": "stream",
     "text": [
      "10\n",
      "15\n"
     ]
    }
   ],
   "source": [
    "# Constructors\n",
    "\n",
    "class Point:\n",
    "    def __init__(self, x, y):\n",
    "        self.x = x\n",
    "        self.y = y\n",
    "        \n",
    "    def move(self):\n",
    "        print (\"move\")\n",
    "        \n",
    "        \n",
    "    def draw(self):\n",
    "        print (\"draw\")\n",
    "\n",
    "point = Point (10, 20)\n",
    "print (point.x)\n",
    "point.x = 15\n",
    "print (point.x)"
   ]
  },
  {
   "cell_type": "code",
   "execution_count": 1,
   "metadata": {},
   "outputs": [
    {
     "name": "stdin",
     "output_type": "stream",
     "text": [
      "What's your name?  Mateusz\n"
     ]
    },
    {
     "name": "stdout",
     "output_type": "stream",
     "text": [
      "Mateusz\n",
      "My name is Mateusz\n"
     ]
    },
    {
     "name": "stdin",
     "output_type": "stream",
     "text": [
      "What's your name, my friend?  Tomek\n"
     ]
    },
    {
     "name": "stdout",
     "output_type": "stream",
     "text": [
      "Tomek\n",
      "My name is Tomek\n",
      "Mateusz\n",
      "Tomek\n"
     ]
    }
   ],
   "source": [
    "class Person:\n",
    "    def __init__ (self, name):\n",
    "        self.name = name\n",
    "        \n",
    "    def talk(self):\n",
    "        print (f\"My name is {self.name}\")\n",
    "        \n",
    "name_1 = input (\"What's your name? \")  \n",
    "\n",
    "person_1 = Person(name_1)\n",
    "print (person_1.name)\n",
    "person_1.talk()\n",
    "\n",
    "name_2 = input (\"What's your name, my friend? \")\n",
    "\n",
    "person_2 = Person(name_2)\n",
    "print (person_2.name)\n",
    "person_2.talk()\n",
    "\n",
    "print (person_1.name)\n",
    "print (person_2.name)"
   ]
  },
  {
   "cell_type": "code",
   "execution_count": null,
   "metadata": {},
   "outputs": [],
   "source": []
  }
 ],
 "metadata": {
  "kernelspec": {
   "display_name": "Python 3",
   "language": "python",
   "name": "python3"
  },
  "language_info": {
   "codemirror_mode": {
    "name": "ipython",
    "version": 3
   },
   "file_extension": ".py",
   "mimetype": "text/x-python",
   "name": "python",
   "nbconvert_exporter": "python",
   "pygments_lexer": "ipython3",
   "version": "3.8.0"
  }
 },
 "nbformat": 4,
 "nbformat_minor": 4
}
